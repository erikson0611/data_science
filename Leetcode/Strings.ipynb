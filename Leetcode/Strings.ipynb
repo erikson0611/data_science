{
 "cells": [
  {
   "cell_type": "markdown",
   "metadata": {},
   "source": [
    "### Reverse String"
   ]
  },
  {
   "cell_type": "code",
   "execution_count": null,
   "metadata": {},
   "outputs": [],
   "source": [
    "class Solution():\n",
    "    def reverseString(self, s):\n",
    "        list = []\n",
    "        count = -1\n",
    "        for i in range(len(s)):\n",
    "            list.append(s[count])\n",
    "            count -= 1\n",
    "        return(list)"
   ]
  },
  {
   "cell_type": "markdown",
   "metadata": {},
   "source": [
    "### Reverse Integer"
   ]
  },
  {
   "cell_type": "code",
   "execution_count": null,
   "metadata": {},
   "outputs": [],
   "source": [
    "class Solution:\n",
    "    def reverse(self, x: int) -> int:\n",
    "        if x != 0:\n",
    "            abs_x = abs(x)\n",
    "            list = []\n",
    "            sum = 0\n",
    "            while(abs_x%10!=0 or abs_x//10!=0):\n",
    "                list.append(abs_x%10)\n",
    "                abs_x = abs_x // 10\n",
    "            for i in range(len(list)):\n",
    "                sum += list[i] * (10 ** (len(list)-i))\n",
    "            result = int(sum*x/(10*abs(x)))\n",
    "            if (result > (2**31 -1) or result <= (-2)**31):\n",
    "                return 0\n",
    "            else:\n",
    "                return result\n",
    "        else:\n",
    "            return 0"
   ]
  },
  {
   "cell_type": "markdown",
   "metadata": {},
   "source": [
    "### First Unique Character in a String"
   ]
  },
  {
   "cell_type": "code",
   "execution_count": null,
   "metadata": {},
   "outputs": [],
   "source": [
    "class Solution(object):\n",
    "    def firstUniqChar(self, s):\n",
    "        for i in range(len(s)):\n",
    "            count = 0\n",
    "            for j in range(len(s)):\n",
    "                if (i!=j) and (s[i]==s[j]): count += 1\n",
    "            if count == 0: \n",
    "                return i\n",
    "        return -1"
   ]
  },
  {
   "cell_type": "markdown",
   "metadata": {},
   "source": [
    "### Valid Anagram"
   ]
  },
  {
   "cell_type": "code",
   "execution_count": null,
   "metadata": {},
   "outputs": [],
   "source": [
    "class Solution:\n",
    "    def isAnagram(self, s: str, t: str) -> bool:\n",
    "        s = list(s)\n",
    "        s.sort()\n",
    "        # print(s)\n",
    "        t = list(t)\n",
    "        t.sort()\n",
    "        # print(t)\n",
    "        if s == t:\n",
    "            return True\n",
    "        else:\n",
    "            return False"
   ]
  },
  {
   "cell_type": "markdown",
   "metadata": {},
   "source": [
    "### Valid Palindrome"
   ]
  },
  {
   "cell_type": "code",
   "execution_count": null,
   "metadata": {},
   "outputs": [],
   "source": [
    "class Solution:\n",
    "    def isPalindrome(self, s: str) -> bool:\n",
    "        s = ''.join(e for e in s if e.isalnum())\n",
    "        s = s.lower()\n",
    "        s = list(s)\n",
    "        count = len(s)//2\n",
    "        for i in range(count):\n",
    "            if s[i] == s [-1-i]:\n",
    "                continue\n",
    "            else:\n",
    "                return False\n",
    "        return True"
   ]
  },
  {
   "cell_type": "markdown",
   "metadata": {},
   "source": [
    "### String to Integer (atoi)"
   ]
  },
  {
   "cell_type": "code",
   "execution_count": null,
   "metadata": {},
   "outputs": [],
   "source": [
    "class Solution:\n",
    "    def myAtoi(self, s: str) -> int:\n",
    "        s = s.lstrip()\n",
    "        result = ''\n",
    "        sign = 1\n",
    "        for i, j in enumerate(s):\n",
    "            if i == 0 and j in ('+', '-'):\n",
    "                sign = -1 if j == '-' else 1\n",
    "            elif j.isdigit():\n",
    "                result += j\n",
    "            else:\n",
    "                break\n",
    "                \n",
    "        result = int(result)*sign if result else 0\n",
    "        \n",
    "        if result > 2**31 -1:\n",
    "            return 2**31 -1\n",
    "        elif result < -2**31:\n",
    "            return -2**31\n",
    "        else:\n",
    "            return result"
   ]
  },
  {
   "cell_type": "markdown",
   "metadata": {},
   "source": [
    "### Implement strStr()"
   ]
  },
  {
   "cell_type": "code",
   "execution_count": null,
   "metadata": {},
   "outputs": [],
   "source": [
    "class Solution:\n",
    "    def strStr(self, haystack: str, needle: str) -> int:\n",
    "        if needle in haystack:\n",
    "            return haystack.index(needle)\n",
    "        else:\n",
    "            return -1"
   ]
  },
  {
   "cell_type": "markdown",
   "metadata": {},
   "source": [
    "### Count and Say"
   ]
  },
  {
   "cell_type": "code",
   "execution_count": null,
   "metadata": {},
   "outputs": [],
   "source": [
    "class Solution:\n",
    "    def countAndSay(self, n: int) -> str:\n",
    "        data = 1\n",
    "        for index in range(1,n):\n",
    "            if data == 1:\n",
    "                if n == 1:\n",
    "                    return 1\n",
    "                data = 11\n",
    "                continue\n",
    "            data = list(str(data))\n",
    "            print(data)\n",
    "            result = []\n",
    "            count = 1\n",
    "            for i in range(len(data)-1):\n",
    "                print(i)\n",
    "                start = data[i]\n",
    "                if data[i] != data[i+1]:\n",
    "                    result.append(str(count))\n",
    "                    result.append(str(start))\n",
    "                    start = data[i+1]\n",
    "                    count = 1\n",
    "                    if i == (len(data)-2):\n",
    "                        result.append('1')\n",
    "                        result.append(str(data[i+1]))\n",
    "                elif data[i] == data[i+1]:\n",
    "                    count += 1\n",
    "                    if i == (len(data)-2):\n",
    "                        result.append(str(count))\n",
    "                        result.append(str(start))\n",
    "                    continue\n",
    "            data = \"\".join(result)\n",
    "        return str(data)"
   ]
  },
  {
   "cell_type": "markdown",
   "metadata": {},
   "source": [
    "### Longest Common Prefix"
   ]
  },
  {
   "cell_type": "code",
   "execution_count": null,
   "metadata": {},
   "outputs": [],
   "source": [
    "class Solution(object):\n",
    "    def longestCommonPrefix(self, strs):\n",
    "        if not strs:\n",
    "            return \"\"\n",
    "        string1 = min(strs) #利用字母來比大小\n",
    "        string2 = max(strs)\n",
    "        for i, x in enumerate(string1):\n",
    "            if x != string2[i]:\n",
    "                return string2[:i]\n",
    "        return string1 #全部相等"
   ]
  }
 ],
 "metadata": {
  "kernelspec": {
   "display_name": "Python 3",
   "language": "python",
   "name": "python3"
  },
  "language_info": {
   "codemirror_mode": {
    "name": "ipython",
    "version": 3
   },
   "file_extension": ".py",
   "mimetype": "text/x-python",
   "name": "python",
   "nbconvert_exporter": "python",
   "pygments_lexer": "ipython3",
   "version": "3.8.3"
  }
 },
 "nbformat": 4,
 "nbformat_minor": 4
}
