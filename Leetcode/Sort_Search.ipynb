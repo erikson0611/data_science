{
 "cells": [
  {
   "cell_type": "markdown",
   "metadata": {},
   "source": [
    "### First Bad Version"
   ]
  },
  {
   "cell_type": "markdown",
   "metadata": {},
   "source": [
    "製作n個物品，從某一個不良品開始，後面都是不良品，要搜尋找到第一個壞掉的<br>\n",
    "可以使用二元樹"
   ]
  },
  {
   "cell_type": "code",
   "execution_count": 4,
   "metadata": {},
   "outputs": [],
   "source": [
    "class Solution(object):\n",
    "    def firstBadVersion(self, n):\n",
    "        # 從中間做切割，然後前後搜尋\n",
    "        start, end = 1, n\n",
    "        while start <= end:\n",
    "            center_pos = (start + end) // 2 # 找到中間點的位置pos，不是index，起點為1\n",
    "            if isBadVersion(center_pos): # 判斷中點是否為不良品，是的話繼續\n",
    "                if isBadVersion(center_pos - 1): # 中點前一個是不良品，減一繼續往前面搜尋\n",
    "                    end = center_pos - 1\n",
    "                else: # 前一個剛好不是了！找到答案！\n",
    "                    return center_pos\n",
    "            else: # 中點不是不良品，代表前面也不會有，加一繼續往尾部搜尋\n",
    "                start = center_pos + 1"
   ]
  },
  {
   "cell_type": "code",
   "execution_count": null,
   "metadata": {},
   "outputs": [],
   "source": []
  }
 ],
 "metadata": {
  "kernelspec": {
   "display_name": "Python 3",
   "language": "python",
   "name": "python3"
  },
  "language_info": {
   "codemirror_mode": {
    "name": "ipython",
    "version": 3
   },
   "file_extension": ".py",
   "mimetype": "text/x-python",
   "name": "python",
   "nbconvert_exporter": "python",
   "pygments_lexer": "ipython3",
   "version": "3.8.3"
  }
 },
 "nbformat": 4,
 "nbformat_minor": 4
}
